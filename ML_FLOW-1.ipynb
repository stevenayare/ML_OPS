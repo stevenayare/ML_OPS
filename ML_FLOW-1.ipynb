{
 "cells": [
  {
   "cell_type": "code",
   "execution_count": 1,
   "id": "3e68379a-baa7-41a5-97dc-0890bb6f8698",
   "metadata": {},
   "outputs": [
    {
     "name": "stdout",
     "output_type": "stream",
     "text": [
      "Elasticnet model (alpha=0.500000, l1_ratio=0.500000):\n",
      "  RMSE: 0.7931640229276851\n",
      "  MAE: 0.6271946374319587\n",
      "  R2: 0.10862644997792614\n"
     ]
    }
   ],
   "source": [
    "! python example.py"
   ]
  },
  {
   "cell_type": "code",
   "execution_count": null,
   "id": "e0593bcc-3252-4db1-8e1d-fbc48a9bf317",
   "metadata": {},
   "outputs": [],
   "source": [
    "!python -m mlflow ui \n"
   ]
  },
  {
   "cell_type": "code",
   "execution_count": null,
   "id": "1fa7addb-507a-4168-8398-3e2bbacc08d4",
   "metadata": {},
   "outputs": [],
   "source": []
  }
 ],
 "metadata": {
  "kernelspec": {
   "display_name": "Python 3 (ipykernel)",
   "language": "python",
   "name": "python3"
  },
  "language_info": {
   "codemirror_mode": {
    "name": "ipython",
    "version": 3
   },
   "file_extension": ".py",
   "mimetype": "text/x-python",
   "name": "python",
   "nbconvert_exporter": "python",
   "pygments_lexer": "ipython3",
   "version": "3.11.7"
  }
 },
 "nbformat": 4,
 "nbformat_minor": 5
}
